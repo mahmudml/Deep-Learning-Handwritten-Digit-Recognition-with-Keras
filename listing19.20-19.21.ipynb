{
 "cells": [
  {
   "cell_type": "code",
   "execution_count": 1,
   "id": "edadd6c3-53e2-42de-8ef2-20bdf501a02c",
   "metadata": {},
   "outputs": [
    {
     "name": "stderr",
     "output_type": "stream",
     "text": [
      "2023-02-13 00:25:17.677134: I tensorflow/core/platform/cpu_feature_guard.cc:193] This TensorFlow binary is optimized with oneAPI Deep Neural Network Library (oneDNN) to use the following CPU instructions in performance-critical operations:  SSE4.1\n",
      "To enable them in other operations, rebuild TensorFlow with the appropriate compiler flags.\n",
      "2023-02-13 00:26:42.928346: I tensorflow/core/platform/cpu_feature_guard.cc:193] This TensorFlow binary is optimized with oneAPI Deep Neural Network Library (oneDNN) to use the following CPU instructions in performance-critical operations:  SSE4.1\n",
      "To enable them in other operations, rebuild TensorFlow with the appropriate compiler flags.\n",
      "2023-02-13 00:26:44.027783: I tensorflow/core/common_runtime/process_util.cc:146] Creating new thread pool with default inter op setting: 2. Tune using inter_op_parallelism_threads for best performance.\n"
     ]
    },
    {
     "name": "stdout",
     "output_type": "stream",
     "text": [
      "Epoch 1/10\n",
      "300/300 [==============================] - 84s 255ms/step - loss: 0.4525 - accuracy: 0.8583 - val_loss: 0.0908 - val_accuracy: 0.9716\n",
      "Epoch 2/10\n",
      "300/300 [==============================] - 74s 247ms/step - loss: 0.0994 - accuracy: 0.9707 - val_loss: 0.0530 - val_accuracy: 0.9827\n",
      "Epoch 3/10\n",
      "300/300 [==============================] - 72s 241ms/step - loss: 0.0714 - accuracy: 0.9780 - val_loss: 0.0449 - val_accuracy: 0.9851\n",
      "Epoch 4/10\n",
      "300/300 [==============================] - 73s 242ms/step - loss: 0.0575 - accuracy: 0.9816 - val_loss: 0.0364 - val_accuracy: 0.9885\n",
      "Epoch 5/10\n",
      "300/300 [==============================] - 72s 239ms/step - loss: 0.0500 - accuracy: 0.9849 - val_loss: 0.0293 - val_accuracy: 0.9909\n",
      "Epoch 6/10\n",
      "300/300 [==============================] - 74s 247ms/step - loss: 0.0428 - accuracy: 0.9868 - val_loss: 0.0311 - val_accuracy: 0.9898\n",
      "Epoch 7/10\n",
      "300/300 [==============================] - 71s 238ms/step - loss: 0.0386 - accuracy: 0.9878 - val_loss: 0.0272 - val_accuracy: 0.9907\n",
      "Epoch 8/10\n",
      "300/300 [==============================] - 72s 239ms/step - loss: 0.0353 - accuracy: 0.9884 - val_loss: 0.0278 - val_accuracy: 0.9907\n",
      "Epoch 9/10\n",
      "300/300 [==============================] - 71s 238ms/step - loss: 0.0305 - accuracy: 0.9907 - val_loss: 0.0287 - val_accuracy: 0.9903\n",
      "Epoch 10/10\n",
      "300/300 [==============================] - 72s 240ms/step - loss: 0.0288 - accuracy: 0.9907 - val_loss: 0.0240 - val_accuracy: 0.9925\n",
      "Large CNN Error: 0.75%\n"
     ]
    }
   ],
   "source": [
    "# Larger CNN for the MNIST Dataset\n",
    "import numpy\n",
    "from tensorflow.keras.datasets import mnist\n",
    "from tensorflow.keras.models import Sequential\n",
    "from tensorflow.keras.layers import Dense, Dropout, Flatten, Conv2D, MaxPooling2D  \n",
    "from tensorflow.keras.utils import to_categorical\n",
    "# fix random seed for reproducibility\n",
    "seed = 7\n",
    "numpy.random.seed(seed)\n",
    "# load data\n",
    "(X_train, y_train), (X_test, y_test) = mnist.load_data()\n",
    "# reshape to be [samples][width][height][channels]\n",
    "X_train = X_train.reshape((X_train.shape[0], 28, 28, 1)).astype('float32')\n",
    "X_test = X_test.reshape((X_test.shape[0], 28, 28, 1)).astype('float32')\n",
    "# normalize inputs from 0-255 to 0-1\n",
    "X_train = X_train / 255\n",
    "X_test = X_test / 255\n",
    "# one hot encode outputs\n",
    "y_train = to_categorical(y_train)\n",
    "y_test = to_categorical(y_test)\n",
    "num_classes = y_test.shape[1]\n",
    "# define the larger model\n",
    "def larger_model():\n",
    "\t# create model\n",
    "\tmodel = Sequential()\n",
    "\tmodel.add(Conv2D(30, (5, 5), input_shape=(28, 28, 1), activation='relu'))\n",
    "\tmodel.add(MaxPooling2D())\n",
    "\tmodel.add(Conv2D(15, (3, 3), activation='relu'))\n",
    "\tmodel.add(MaxPooling2D())\n",
    "\tmodel.add(Dropout(0.2))\n",
    "\tmodel.add(Flatten())\n",
    "\tmodel.add(Dense(128, activation='relu'))\n",
    "\tmodel.add(Dense(50, activation='relu'))\n",
    "\tmodel.add(Dense(num_classes, activation='softmax'))\n",
    "\t# Compile model\n",
    "\tmodel.compile(loss='categorical_crossentropy', optimizer='adam', metrics=['accuracy'])\n",
    "\treturn model\n",
    "# build the model\n",
    "model = larger_model()\n",
    "# Fit the model\n",
    "model.fit(X_train, y_train, validation_data=(X_test, y_test), epochs=10, batch_size=200)\n",
    "# Final evaluation of the model\n",
    "scores = model.evaluate(X_test, y_test, verbose=0)\n",
    "print(\"Large CNN Error: %.2f%%\" % (100-scores[1]*100))"
   ]
  },
  {
   "cell_type": "code",
   "execution_count": null,
   "id": "57821c21-ba97-455e-8f24-5439a6bbff82",
   "metadata": {},
   "outputs": [],
   "source": []
  }
 ],
 "metadata": {
  "kernelspec": {
   "display_name": "Python 3 (ipykernel)",
   "language": "python",
   "name": "python3"
  },
  "language_info": {
   "codemirror_mode": {
    "name": "ipython",
    "version": 3
   },
   "file_extension": ".py",
   "mimetype": "text/x-python",
   "name": "python",
   "nbconvert_exporter": "python",
   "pygments_lexer": "ipython3",
   "version": "3.9.15"
  }
 },
 "nbformat": 4,
 "nbformat_minor": 5
}
