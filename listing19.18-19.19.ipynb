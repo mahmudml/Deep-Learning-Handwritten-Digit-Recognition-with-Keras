{
 "cells": [
  {
   "cell_type": "code",
   "execution_count": 1,
   "id": "21d61b48-dd24-4a3b-b6f4-4e831e662223",
   "metadata": {},
   "outputs": [
    {
     "name": "stderr",
     "output_type": "stream",
     "text": [
      "2023-02-11 23:08:41.539849: I tensorflow/core/platform/cpu_feature_guard.cc:193] This TensorFlow binary is optimized with oneAPI Deep Neural Network Library (oneDNN) to use the following CPU instructions in performance-critical operations:  SSE4.1\n",
      "To enable them in other operations, rebuild TensorFlow with the appropriate compiler flags.\n",
      "2023-02-11 23:10:31.336562: I tensorflow/core/platform/cpu_feature_guard.cc:193] This TensorFlow binary is optimized with oneAPI Deep Neural Network Library (oneDNN) to use the following CPU instructions in performance-critical operations:  SSE4.1\n",
      "To enable them in other operations, rebuild TensorFlow with the appropriate compiler flags.\n",
      "2023-02-11 23:10:31.473070: I tensorflow/core/common_runtime/process_util.cc:146] Creating new thread pool with default inter op setting: 2. Tune using inter_op_parallelism_threads for best performance.\n"
     ]
    },
    {
     "name": "stdout",
     "output_type": "stream",
     "text": [
      "Epoch 1/10\n",
      "300/300 [==============================] - 77s 237ms/step - loss: 0.2401 - accuracy: 0.9316 - val_loss: 0.0735 - val_accuracy: 0.9785\n",
      "Epoch 2/10\n",
      "300/300 [==============================] - 73s 245ms/step - loss: 0.0723 - accuracy: 0.9787 - val_loss: 0.0515 - val_accuracy: 0.9826\n",
      "Epoch 3/10\n",
      "300/300 [==============================] - 82s 272ms/step - loss: 0.0510 - accuracy: 0.9847 - val_loss: 0.0443 - val_accuracy: 0.9850\n",
      "Epoch 4/10\n",
      "300/300 [==============================] - 77s 257ms/step - loss: 0.0401 - accuracy: 0.9872 - val_loss: 0.0393 - val_accuracy: 0.9872\n",
      "Epoch 5/10\n",
      "300/300 [==============================] - 68s 228ms/step - loss: 0.0338 - accuracy: 0.9895 - val_loss: 0.0413 - val_accuracy: 0.9863\n",
      "Epoch 6/10\n",
      "300/300 [==============================] - 69s 229ms/step - loss: 0.0277 - accuracy: 0.9909 - val_loss: 0.0349 - val_accuracy: 0.9890\n",
      "Epoch 7/10\n",
      "300/300 [==============================] - 71s 237ms/step - loss: 0.0230 - accuracy: 0.9927 - val_loss: 0.0371 - val_accuracy: 0.9877\n",
      "Epoch 8/10\n",
      "300/300 [==============================] - 69s 228ms/step - loss: 0.0198 - accuracy: 0.9940 - val_loss: 0.0364 - val_accuracy: 0.9887\n",
      "Epoch 9/10\n",
      "300/300 [==============================] - 74s 248ms/step - loss: 0.0164 - accuracy: 0.9947 - val_loss: 0.0343 - val_accuracy: 0.9888\n",
      "Epoch 10/10\n",
      "300/300 [==============================] - 70s 232ms/step - loss: 0.0143 - accuracy: 0.9954 - val_loss: 0.0329 - val_accuracy: 0.9890\n",
      "CNN Error: 1.10%\n"
     ]
    }
   ],
   "source": [
    "# Simple CNN for the MNIST Dataset\n",
    "import numpy\n",
    "from tensorflow.keras.datasets import mnist\n",
    "from tensorflow.keras.models import Sequential\n",
    "from tensorflow.keras.layers import Dense, Dropout, Flatten, Conv2D, MaxPooling2D \n",
    "from tensorflow.keras.utils import to_categorical\n",
    "# fix random seed for reproducibility\n",
    "seed = 7\n",
    "numpy.random.seed(seed)\n",
    "# load data\n",
    "(X_train, y_train), (X_test, y_test) = mnist.load_data()\n",
    "# reshape to be [samples][width][height][channels]\n",
    "X_train = X_train.reshape((X_train.shape[0], 28, 28, 1)).astype('float32')\n",
    "X_test = X_test.reshape((X_test.shape[0], 28, 28, 1)).astype('float32')\n",
    "# normalize inputs from 0-255 to 0-1\n",
    "X_train = X_train / 255\n",
    "X_test = X_test / 255\n",
    "# one hot encode outputs\n",
    "y_train = to_categorical(y_train)\n",
    "y_test = to_categorical(y_test)\n",
    "num_classes = y_test.shape[1]\n",
    "# define a simple CNN model\n",
    "def baseline_model():\n",
    "\t# create model\n",
    "\tmodel = Sequential()\n",
    "\tmodel.add(Conv2D(32, (5, 5), input_shape=(28, 28, 1), activation='relu'))\n",
    "\tmodel.add(MaxPooling2D())\n",
    "\tmodel.add(Dropout(0.2))\n",
    "\tmodel.add(Flatten())\n",
    "\tmodel.add(Dense(128, activation='relu'))\n",
    "\tmodel.add(Dense(num_classes, activation='softmax'))\n",
    "\t# Compile model\n",
    "\tmodel.compile(loss='categorical_crossentropy', optimizer='Adam', metrics=['accuracy'])\n",
    "\treturn model\n",
    "# build the model\n",
    "model = baseline_model()\n",
    "# Fit the model\n",
    "model.fit(X_train, y_train, validation_data=(X_test, y_test), epochs=10, batch_size=200)\n",
    "# Final evaluation of the model\n",
    "scores = model.evaluate(X_test, y_test, verbose=0)\n",
    "print(\"CNN Error: %.2f%%\" % (100-scores[1]*100))"
   ]
  },
  {
   "cell_type": "code",
   "execution_count": null,
   "id": "96af7a8c-3f1a-42a2-ae2c-7ed9d03d931e",
   "metadata": {},
   "outputs": [],
   "source": []
  }
 ],
 "metadata": {
  "kernelspec": {
   "display_name": "Python 3 (ipykernel)",
   "language": "python",
   "name": "python3"
  },
  "language_info": {
   "codemirror_mode": {
    "name": "ipython",
    "version": 3
   },
   "file_extension": ".py",
   "mimetype": "text/x-python",
   "name": "python",
   "nbconvert_exporter": "python",
   "pygments_lexer": "ipython3",
   "version": "3.9.15"
  }
 },
 "nbformat": 4,
 "nbformat_minor": 5
}
