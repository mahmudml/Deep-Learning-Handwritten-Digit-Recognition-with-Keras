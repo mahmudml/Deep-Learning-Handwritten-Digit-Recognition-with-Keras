{
 "cells": [
  {
   "cell_type": "code",
   "execution_count": 1,
   "id": "2830f63e-f131-4265-9703-4beee5e180b8",
   "metadata": {},
   "outputs": [
    {
     "name": "stderr",
     "output_type": "stream",
     "text": [
      "2023-02-11 23:04:06.792508: I tensorflow/core/platform/cpu_feature_guard.cc:193] This TensorFlow binary is optimized with oneAPI Deep Neural Network Library (oneDNN) to use the following CPU instructions in performance-critical operations:  SSE4.1\n",
      "To enable them in other operations, rebuild TensorFlow with the appropriate compiler flags.\n",
      "2023-02-11 23:06:00.501797: I tensorflow/core/platform/cpu_feature_guard.cc:193] This TensorFlow binary is optimized with oneAPI Deep Neural Network Library (oneDNN) to use the following CPU instructions in performance-critical operations:  SSE4.1\n",
      "To enable them in other operations, rebuild TensorFlow with the appropriate compiler flags.\n",
      "2023-02-11 23:06:00.721647: I tensorflow/core/common_runtime/process_util.cc:146] Creating new thread pool with default inter op setting: 2. Tune using inter_op_parallelism_threads for best performance.\n"
     ]
    },
    {
     "name": "stdout",
     "output_type": "stream",
     "text": [
      "Epoch 1/10\n",
      "300/300 - 26s - loss: 0.2793 - accuracy: 0.9212 - val_loss: 0.1398 - val_accuracy: 0.9598 - 26s/epoch - 88ms/step\n",
      "Epoch 2/10\n",
      "300/300 - 10s - loss: 0.1090 - accuracy: 0.9686 - val_loss: 0.1000 - val_accuracy: 0.9689 - 10s/epoch - 33ms/step\n",
      "Epoch 3/10\n",
      "300/300 - 13s - loss: 0.0713 - accuracy: 0.9791 - val_loss: 0.0786 - val_accuracy: 0.9745 - 13s/epoch - 43ms/step\n",
      "Epoch 4/10\n",
      "300/300 - 11s - loss: 0.0495 - accuracy: 0.9862 - val_loss: 0.0745 - val_accuracy: 0.9757 - 11s/epoch - 36ms/step\n",
      "Epoch 5/10\n",
      "300/300 - 12s - loss: 0.0373 - accuracy: 0.9895 - val_loss: 0.0663 - val_accuracy: 0.9798 - 12s/epoch - 40ms/step\n",
      "Epoch 6/10\n",
      "300/300 - 10s - loss: 0.0263 - accuracy: 0.9929 - val_loss: 0.0621 - val_accuracy: 0.9802 - 10s/epoch - 35ms/step\n",
      "Epoch 7/10\n",
      "300/300 - 11s - loss: 0.0195 - accuracy: 0.9950 - val_loss: 0.0618 - val_accuracy: 0.9811 - 11s/epoch - 38ms/step\n",
      "Epoch 8/10\n",
      "300/300 - 13s - loss: 0.0146 - accuracy: 0.9967 - val_loss: 0.0544 - val_accuracy: 0.9829 - 13s/epoch - 43ms/step\n",
      "Epoch 9/10\n",
      "300/300 - 12s - loss: 0.0105 - accuracy: 0.9978 - val_loss: 0.0630 - val_accuracy: 0.9816 - 12s/epoch - 41ms/step\n",
      "Epoch 10/10\n",
      "300/300 - 12s - loss: 0.0087 - accuracy: 0.9981 - val_loss: 0.0611 - val_accuracy: 0.9816 - 12s/epoch - 41ms/step\n",
      "Baseline Error: 1.84%\n"
     ]
    }
   ],
   "source": [
    "# Baseline MLP for MNIST dataset\n",
    "\n",
    "import numpy\n",
    "from tensorflow.keras.datasets import mnist\n",
    "from tensorflow.keras.models import Sequential\n",
    "from tensorflow.keras.layers import Dense\n",
    "from tensorflow.keras.utils import to_categorical\n",
    "# fix random seed for reproducibility\n",
    "seed = 7\n",
    "numpy.random.seed(seed)\n",
    "# load data\n",
    "(X_train, y_train), (X_test, y_test) = mnist.load_data()\n",
    "# flatten 28*28 images to a 784 vector for each image\n",
    "num_pixels = X_train.shape[1] * X_train.shape[2]\n",
    "X_train = X_train.reshape((X_train.shape[0], num_pixels)).astype('float32')\n",
    "X_test = X_test.reshape((X_test.shape[0], num_pixels)).astype('float32')\n",
    "# normalize inputs from 0-255 to 0-1\n",
    "X_train = X_train / 255\n",
    "X_test = X_test / 255\n",
    "# one hot encode outputs\n",
    "y_train = to_categorical(y_train)\n",
    "y_test = to_categorical(y_test)\n",
    "num_classes = y_test.shape[1]\n",
    "# define baseline model\n",
    "def baseline_model():\n",
    "\t# create model\n",
    "\tmodel = Sequential()\n",
    "\tmodel.add(Dense(num_pixels, input_shape=(num_pixels,), kernel_initializer='normal', activation='relu'))\n",
    "\tmodel.add(Dense(num_classes, kernel_initializer='normal', activation='softmax'))\n",
    "\t# Compile model\n",
    "\tmodel.compile(loss='categorical_crossentropy', optimizer='adam', metrics=['accuracy'])\n",
    "\treturn model\n",
    "# build the model\n",
    "model = baseline_model()\n",
    "# Fit the model\n",
    "model.fit(X_train, y_train, validation_data=(X_test, y_test), epochs=10, batch_size=200, verbose=2)\n",
    "# Final evaluation of the model\n",
    "scores = model.evaluate(X_test, y_test, verbose=0)\n",
    "print(\"Baseline Error: %.2f%%\" % (100-scores[1]*100))"
   ]
  },
  {
   "cell_type": "code",
   "execution_count": null,
   "id": "e1325f64-b0e7-4770-a3a8-b93857c7f51d",
   "metadata": {},
   "outputs": [],
   "source": []
  }
 ],
 "metadata": {
  "kernelspec": {
   "display_name": "Python 3 (ipykernel)",
   "language": "python",
   "name": "python3"
  },
  "language_info": {
   "codemirror_mode": {
    "name": "ipython",
    "version": 3
   },
   "file_extension": ".py",
   "mimetype": "text/x-python",
   "name": "python",
   "nbconvert_exporter": "python",
   "pygments_lexer": "ipython3",
   "version": "3.9.15"
  }
 },
 "nbformat": 4,
 "nbformat_minor": 5
}
